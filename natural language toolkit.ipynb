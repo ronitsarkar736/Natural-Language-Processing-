{
 "cells": [
  {
   "cell_type": "code",
   "execution_count": 1,
   "id": "baaeae76",
   "metadata": {},
   "outputs": [
    {
     "name": "stderr",
     "output_type": "stream",
     "text": [
      "[nltk_data] Downloading package punkt to\n",
      "[nltk_data]     C:\\Users\\ronit\\AppData\\Roaming\\nltk_data...\n",
      "[nltk_data]   Unzipping tokenizers\\punkt.zip.\n",
      "[nltk_data] Downloading package stopwords to\n",
      "[nltk_data]     C:\\Users\\ronit\\AppData\\Roaming\\nltk_data...\n",
      "[nltk_data]   Package stopwords is already up-to-date!\n",
      "[nltk_data] Downloading package wordnet to\n",
      "[nltk_data]     C:\\Users\\ronit\\AppData\\Roaming\\nltk_data...\n"
     ]
    },
    {
     "data": {
      "text/plain": [
       "True"
      ]
     },
     "execution_count": 1,
     "metadata": {},
     "output_type": "execute_result"
    }
   ],
   "source": [
    "import nltk\n",
    "from nltk.tokenize import word_tokenize, sent_tokenize, RegexpTokenizer\n",
    "from nltk.corpus import stopwords\n",
    "from nltk.stem import PorterStemmer, LancasterStemmer, WordNetLemmatizer\n",
    "import re\n",
    "nltk.download('punkt')\n",
    "nltk.download('stopwords')\n",
    "nltk.download('wordnet')"
   ]
  },
  {
   "cell_type": "code",
   "execution_count": 2,
   "id": "2ca24260",
   "metadata": {},
   "outputs": [
    {
     "name": "stdout",
     "output_type": "stream",
     "text": [
      "Tokens: ['Natural', 'Language', 'Processing', 'with', 'Python', 'is', 'fun', '.']\n"
     ]
    }
   ],
   "source": [
    "# 1. Tokenize sentence\n",
    "sentence1 = \"Natural Language Processing with Python is fun.\"\n",
    "tokens1 = word_tokenize(sentence1)\n",
    "print(\"Tokens:\", tokens1)"
   ]
  },
  {
   "cell_type": "code",
   "execution_count": 3,
   "id": "9da2ca62",
   "metadata": {},
   "outputs": [
    {
     "name": "stdout",
     "output_type": "stream",
     "text": [
      "No Punctuation: ['Hello', 'there', 'How', 'the', 'weather', 'today']\n"
     ]
    }
   ],
   "source": [
    "# 2. Remove punctuation\n",
    "sentence2 = \"Hello there! How's the weather today?\"\n",
    "tokens2 = []\n",
    "for word in word_tokenize(sentence2):\n",
    "    if word.isalnum():\n",
    "        tokens2.append(word)\n",
    "print(\"No Punctuation:\", tokens2)"
   ]
  },
  {
   "cell_type": "code",
   "execution_count": 4,
   "id": "68fa973e",
   "metadata": {},
   "outputs": [
    {
     "name": "stdout",
     "output_type": "stream",
     "text": [
      "No Stopwords: ['simple', 'sentence', 'stopword', 'removal', '.']\n"
     ]
    }
   ],
   "source": [
    "# 3. Remove stopwords\n",
    "sentence3 = \"This is a simple sentence for stopword removal.\"\n",
    "tokens3 = []\n",
    "for word in word_tokenize(sentence3):\n",
    "    if word.lower() not in stopwords.words('english'):\n",
    "        tokens3.append(word)\n",
    "print(\"No Stopwords:\", tokens3)"
   ]
  },
  {
   "cell_type": "code",
   "execution_count": 5,
   "id": "f5fe802f",
   "metadata": {},
   "outputs": [
    {
     "name": "stdout",
     "output_type": "stream",
     "text": [
      "Stemmed: ['the', 'stripe', 'bat', 'are', 'hang', 'on', 'their', 'feet', 'for', 'best', '.']\n"
     ]
    }
   ],
   "source": [
    "# 4. Stemming with PorterStemmer\n",
    "sentence4 = \"The striped bats are hanging on their feet for best.\"\n",
    "stemmer = PorterStemmer()\n",
    "tokens4 = []\n",
    "for word in word_tokenize(sentence4):\n",
    "    tokens4.append(stemmer.stem(word))\n",
    "print(\"Stemmed:\", tokens4)"
   ]
  },
  {
   "cell_type": "code",
   "execution_count": 6,
   "id": "49dab5bc",
   "metadata": {},
   "outputs": [
    {
     "name": "stdout",
     "output_type": "stream",
     "text": [
      "Lemmatized: ['The', 'goose', 'are', 'flying', 'south', 'for', 'the', 'winter', '.']\n"
     ]
    }
   ],
   "source": [
    "# 5. Lemmatization with WordNetLemmatizer\n",
    "sentence5 = \"The geese are flying south for the winter.\"\n",
    "lemmatizer = WordNetLemmatizer()\n",
    "tokens5 = []\n",
    "for word in word_tokenize(sentence5):\n",
    "    tokens5.append(lemmatizer.lemmatize(word))\n",
    "print(\"Lemmatized:\", tokens5)"
   ]
  },
  {
   "cell_type": "code",
   "execution_count": 7,
   "id": "2805d17c",
   "metadata": {},
   "outputs": [
    {
     "name": "stdout",
     "output_type": "stream",
     "text": [
      "Lowercase & No Punctuation: ['hello', 'world', 'nlp', 'with', 'python']\n"
     ]
    }
   ],
   "source": [
    "# 6. Convert to lowercase & remove punctuation\n",
    "sentence6 = \"Hello, World! NLP with Python.\"\n",
    "tokens6 = []\n",
    "for word in word_tokenize(sentence6):\n",
    "    if word.isalnum():\n",
    "        tokens6.append(word.lower())\n",
    "print(\"Lowercase & No Punctuation:\", tokens6)"
   ]
  },
  {
   "cell_type": "code",
   "execution_count": 8,
   "id": "e77c8150",
   "metadata": {},
   "outputs": [
    {
     "name": "stdout",
     "output_type": "stream",
     "text": [
      "Sentence Tokens: ['Hello World.', 'This is NLTK.', \"Let's explore NLP!\"]\n"
     ]
    }
   ],
   "source": [
    "# 7. Sentence tokenization\n",
    "sentence7 = \"Hello World. This is NLTK. Let's explore NLP!\"\n",
    "sentences7 = sent_tokenize(sentence7)\n",
    "print(\"Sentence Tokens:\", sentences7)"
   ]
  },
  {
   "cell_type": "code",
   "execution_count": 9,
   "id": "8d2b0ca6",
   "metadata": {},
   "outputs": [
    {
     "name": "stdout",
     "output_type": "stream",
     "text": [
      "Lancaster Stemmed: ['lov', 'the', 'expery', 'of', 'learn', 'nltk']\n"
     ]
    }
   ],
   "source": [
    "# 8. LancasterStemmer\n",
    "sentence8 = \"Loving the experience of learning NLTK\"\n",
    "lancaster_stemmer = LancasterStemmer()\n",
    "tokens8 = []\n",
    "for word in word_tokenize(sentence8):\n",
    "    tokens8.append(lancaster_stemmer.stem(word))\n",
    "print(\"Lancaster Stemmed:\", tokens8)"
   ]
  },
  {
   "cell_type": "code",
   "execution_count": 10,
   "id": "91432696",
   "metadata": {},
   "outputs": [
    {
     "name": "stdout",
     "output_type": "stream",
     "text": [
      "No Stopwords & No Punctuation: ['test', 'sentence', 'stopwords', 'punctuation']\n"
     ]
    }
   ],
   "source": [
    "# 9. Remove stopwords & punctuation\n",
    "sentence9 = \"This is a test sentence, with stopwords and punctuation!\"\n",
    "tokens9 = []\n",
    "for word in word_tokenize(sentence9):\n",
    "    if word.isalnum() and word.lower() not in stopwords.words('english'):\n",
    "        tokens9.append(word)\n",
    "print(\"No Stopwords & No Punctuation:\", tokens9)"
   ]
  },
  {
   "cell_type": "code",
   "execution_count": 11,
   "id": "94bc81a1",
   "metadata": {},
   "outputs": [
    {
     "name": "stdout",
     "output_type": "stream",
     "text": [
      "Lemmatized with POS: ['The', 'striped', 'bat', 'are', 'hanging', 'on', 'their', 'foot', '.']\n"
     ]
    }
   ],
   "source": [
    "# 10. Lemmatization with POS tagging\n",
    "sentence10 = \"The striped bats are hanging on their feet.\"\n",
    "tokens10 = []\n",
    "for word in word_tokenize(sentence10):\n",
    "    tokens10.append(lemmatizer.lemmatize(word))\n",
    "print(\"Lemmatized with POS:\", tokens10)"
   ]
  },
  {
   "cell_type": "code",
   "execution_count": 12,
   "id": "bd8c201b",
   "metadata": {},
   "outputs": [
    {
     "name": "stdout",
     "output_type": "stream",
     "text": [
      "Tokenized, No Stopwords & Stemmed: ['run', 'forest', 'fox', 'faster']\n"
     ]
    }
   ],
   "source": [
    "# 11. Tokenize, remove stopwords, punctuation, & stemming\n",
    "sentence11 = \"Running through the forest, the fox is faster.\"\n",
    "tokens11 = []\n",
    "for word in word_tokenize(sentence11):\n",
    "    if word.isalnum() and word.lower() not in stopwords.words('english'):\n",
    "        tokens11.append(stemmer.stem(word))\n",
    "print(\"Tokenized, No Stopwords & Stemmed:\", tokens11)"
   ]
  },
  {
   "cell_type": "code",
   "execution_count": 13,
   "id": "f531222c",
   "metadata": {},
   "outputs": [
    {
     "name": "stdout",
     "output_type": "stream",
     "text": [
      "Stopword Count: 4\n"
     ]
    }
   ],
   "source": [
    "# 12. Count stopwords\n",
    "sentence12 = \"This is an example sentence for counting stopwords.\"\n",
    "stopword_count12 = 0\n",
    "for word in word_tokenize(sentence12):\n",
    "    if word.lower() in stopwords.words('english'):\n",
    "        stopword_count12 += 1\n",
    "print(\"Stopword Count:\", stopword_count12)"
   ]
  },
  {
   "cell_type": "code",
   "execution_count": 14,
   "id": "5c58740a",
   "metadata": {},
   "outputs": [
    {
     "name": "stdout",
     "output_type": "stream",
     "text": [
      "Regex Tokenizer & Stemmed: ['stem', 'punctuat', 'remov', 'exampl']\n"
     ]
    }
   ],
   "source": [
    "# 13. Stemming & punctuation removal with RegexTokenizer\n",
    "sentence13 = \"Stemming, punctuation! Removal example.\"\n",
    "regex_tokenizer = RegexpTokenizer(r'\\w+')\n",
    "tokens13 = []\n",
    "for word in regex_tokenizer.tokenize(sentence13):\n",
    "    tokens13.append(stemmer.stem(word))\n",
    "print(\"Regex Tokenizer & Stemmed:\", tokens13)"
   ]
  },
  {
   "cell_type": "code",
   "execution_count": 15,
   "id": "18cbe333",
   "metadata": {},
   "outputs": [
    {
     "name": "stdout",
     "output_type": "stream",
     "text": [
      "Regex Punctuation Removal: Punctuation removal with regex in NLP\n"
     ]
    }
   ],
   "source": [
    "# 14. Remove punctuation with regex\n",
    "sentence14 = \"Punctuation removal with regex in NLP!\"\n",
    "tokens14 = re.sub(r'[^\\w\\s]', '', sentence14)\n",
    "print(\"Regex Punctuation Removal:\", tokens14)"
   ]
  },
  {
   "cell_type": "code",
   "execution_count": 16,
   "id": "5648917d",
   "metadata": {},
   "outputs": [
    {
     "name": "stdout",
     "output_type": "stream",
     "text": [
      "Tokenized, No Stopwords & Lemmatized: ['dog', 'barking', 'loudly']\n"
     ]
    }
   ],
   "source": [
    "# 15. Tokenize, remove stopwords, and lemmatize\n",
    "sentence15 = \"The dogs are barking loudly.\"\n",
    "tokens15 = []\n",
    "for word in word_tokenize(sentence15):\n",
    "    if word.isalnum() and word.lower() not in stopwords.words('english'):\n",
    "        tokens15.append(lemmatizer.lemmatize(word))\n",
    "print(\"Tokenized, No Stopwords & Lemmatized:\", tokens15)"
   ]
  },
  {
   "cell_type": "code",
   "execution_count": null,
   "id": "7ec26a80",
   "metadata": {},
   "outputs": [],
   "source": []
  }
 ],
 "metadata": {
  "kernelspec": {
   "display_name": "Python 3 (ipykernel)",
   "language": "python",
   "name": "python3"
  },
  "language_info": {
   "codemirror_mode": {
    "name": "ipython",
    "version": 3
   },
   "file_extension": ".py",
   "mimetype": "text/x-python",
   "name": "python",
   "nbconvert_exporter": "python",
   "pygments_lexer": "ipython3",
   "version": "3.11.5"
  }
 },
 "nbformat": 4,
 "nbformat_minor": 5
}
