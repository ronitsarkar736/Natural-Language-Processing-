{
  "nbformat": 4,
  "nbformat_minor": 0,
  "metadata": {
    "colab": {
      "provenance": []
    },
    "kernelspec": {
      "name": "python3",
      "display_name": "Python 3"
    },
    "language_info": {
      "name": "python"
    }
  },
  "cells": [
    {
      "cell_type": "markdown",
      "source": [
        "## 1. Print an f-string that displays NLP stands for Natural Language Processing using the variables provided."
      ],
      "metadata": {
        "id": "hZiEdWZeYQFu"
      }
    },
    {
      "cell_type": "code",
      "execution_count": 1,
      "metadata": {
        "colab": {
          "base_uri": "https://localhost:8080/"
        },
        "id": "MuAzgTiqVyG9",
        "outputId": "d9fa1d65-93c6-4d2b-af2f-17e7c8f7c416"
      },
      "outputs": [
        {
          "output_type": "stream",
          "name": "stdout",
          "text": [
            "NLP stands for Natural language processing\n"
          ]
        }
      ],
      "source": [
        "variable = \"NLP\"\n",
        "Full_form = \"Natural language processing\"\n",
        "print(f\"{variable} stands for {Full_form}\")"
      ]
    },
    {
      "cell_type": "markdown",
      "source": [
        "## 2. Create a file in the current working directory called contacts.txt by running the cell below."
      ],
      "metadata": {
        "id": "YqxLgHPVYcOn"
      }
    },
    {
      "cell_type": "code",
      "source": [
        "%%writefile contacts.txt\n",
        "name\n",
        "age"
      ],
      "metadata": {
        "colab": {
          "base_uri": "https://localhost:8080/"
        },
        "id": "7Afxp1MsV6gd",
        "outputId": "834bad24-b5bc-487d-f7b0-c969c0d1764c"
      },
      "execution_count": 2,
      "outputs": [
        {
          "output_type": "stream",
          "name": "stdout",
          "text": [
            "Writing contacts.txt\n"
          ]
        }
      ]
    },
    {
      "cell_type": "markdown",
      "source": [
        "## 3. Open the file and use .read() to save the contents of the file to a string called fields. Make sure the file is closed at the end."
      ],
      "metadata": {
        "id": "WSAOV7PRYxNK"
      }
    },
    {
      "cell_type": "code",
      "source": [
        "with open('contacts.txt', 'r') as file:\n",
        "    fields = file.read()\n",
        "fields\n",
        "# file was automatically closed after reading because we used a with statement, which ensures that the file is closed\n",
        "# at the end of the block. You don't need to manually close it in this case."
      ],
      "metadata": {
        "colab": {
          "base_uri": "https://localhost:8080/",
          "height": 35
        },
        "id": "k9uNLOZfV8CS",
        "outputId": "c5696774-34ba-446d-d532-daa1cc6d595b"
      },
      "execution_count": 3,
      "outputs": [
        {
          "output_type": "execute_result",
          "data": {
            "text/plain": [
              "'name\\nage\\n'"
            ],
            "application/vnd.google.colaboratory.intrinsic+json": {
              "type": "string"
            }
          },
          "metadata": {},
          "execution_count": 3
        }
      ]
    },
    {
      "cell_type": "markdown",
      "source": [
        "## 4. Use PyPDF2 to open the file Business_Proposal.pdf. Extract the text of page 2."
      ],
      "metadata": {
        "id": "C8YF3Re6Y5cW"
      }
    },
    {
      "cell_type": "code",
      "source": [
        "pip install pyPDF2"
      ],
      "metadata": {
        "colab": {
          "base_uri": "https://localhost:8080/"
        },
        "id": "I1GXJo1LV-fD",
        "outputId": "8cc3e952-57c2-45be-eae9-66952f61af62"
      },
      "execution_count": 6,
      "outputs": [
        {
          "output_type": "stream",
          "name": "stdout",
          "text": [
            "Collecting pyPDF2\n",
            "  Downloading pypdf2-3.0.1-py3-none-any.whl.metadata (6.8 kB)\n",
            "Downloading pypdf2-3.0.1-py3-none-any.whl (232 kB)\n",
            "\u001b[2K   \u001b[90m━━━━━━━━━━━━━━━━━━━━━━━━━━━━━━━━━━━━━━━━\u001b[0m \u001b[32m232.6/232.6 kB\u001b[0m \u001b[31m4.2 MB/s\u001b[0m eta \u001b[36m0:00:00\u001b[0m\n",
            "\u001b[?25hInstalling collected packages: pyPDF2\n",
            "Successfully installed pyPDF2-3.0.1\n"
          ]
        }
      ]
    },
    {
      "cell_type": "code",
      "source": [
        "import PyPDF2\n",
        "from PyPDF2 import PdfReader"
      ],
      "metadata": {
        "id": "GyfxN0UGWCE2"
      },
      "execution_count": 16,
      "outputs": []
    },
    {
      "cell_type": "code",
      "source": [
        "pdf_path = r'/content/Business_Proposal.pdf'"
      ],
      "metadata": {
        "id": "mPSWL6ZDWKHI"
      },
      "execution_count": 17,
      "outputs": []
    },
    {
      "cell_type": "code",
      "source": [
        "f = (pdf_path, 'rb')\n",
        "f"
      ],
      "metadata": {
        "colab": {
          "base_uri": "https://localhost:8080/"
        },
        "id": "hJkVzfadWR4w",
        "outputId": "9b96d498-091a-43fa-881e-b6d0af37f441"
      },
      "execution_count": 18,
      "outputs": [
        {
          "output_type": "execute_result",
          "data": {
            "text/plain": [
              "('/content/Business_Proposal.pdf', 'rb')"
            ]
          },
          "metadata": {},
          "execution_count": 18
        }
      ]
    },
    {
      "cell_type": "code",
      "source": [
        "reader = PdfReader(pdf_path)\n",
        "page_2 = reader.pages[1].extract_text()\n",
        "page_2"
      ],
      "metadata": {
        "colab": {
          "base_uri": "https://localhost:8080/",
          "height": 53
        },
        "id": "OH7aSC6TWTsr",
        "outputId": "a245af25-8394-4d06-cabc-93153c37f1fb"
      },
      "execution_count": 20,
      "outputs": [
        {
          "output_type": "execute_result",
          "data": {
            "text/plain": [
              "'AUTHORS:  \\nAmy Baker, Finance Chair, x345, abaker@ourcompany.com  \\nChris Donaldson, Accounting Dir., x621, cdonaldson@ourcompany.com  \\nErin Freeman, Sr. VP, x879, efreeman@ourcompany.com  '"
            ],
            "application/vnd.google.colaboratory.intrinsic+json": {
              "type": "string"
            }
          },
          "metadata": {},
          "execution_count": 20
        }
      ]
    },
    {
      "cell_type": "markdown",
      "source": [
        "## 5. Open the file contacts.txt in append mode. Add the text of page 2 from above to contacts.txt.\n"
      ],
      "metadata": {
        "id": "WI2JSwnzY_q2"
      }
    },
    {
      "cell_type": "code",
      "source": [
        "with open('contacts.txt', 'a') as a:\n",
        "    add_page_2 = a.write(page_2)\n",
        "    add_page_2\n"
      ],
      "metadata": {
        "id": "_o8dJjdGWWA5"
      },
      "execution_count": 21,
      "outputs": []
    },
    {
      "cell_type": "code",
      "source": [
        "with open('contacts.txt', 'r') as file:\n",
        "    new = file.read()\n",
        "new"
      ],
      "metadata": {
        "colab": {
          "base_uri": "https://localhost:8080/",
          "height": 53
        },
        "id": "oLChtroDZC1h",
        "outputId": "6fcba078-a9ec-4342-e2ef-5dea2f601413"
      },
      "execution_count": 22,
      "outputs": [
        {
          "output_type": "execute_result",
          "data": {
            "text/plain": [
              "'name\\nage\\nAUTHORS:  \\nAmy Baker, Finance Chair, x345, abaker@ourcompany.com  \\nChris Donaldson, Accounting Dir., x621, cdonaldson@ourcompany.com  \\nErin Freeman, Sr. VP, x879, efreeman@ourcompany.com  '"
            ],
            "application/vnd.google.colaboratory.intrinsic+json": {
              "type": "string"
            }
          },
          "metadata": {},
          "execution_count": 22
        }
      ]
    },
    {
      "cell_type": "markdown",
      "source": [
        "## 6. Using the page_two_text variable created above, extract any email addresses that were contained in the file Business_Proposal.pdf."
      ],
      "metadata": {
        "id": "jPhAz7l6ad9z"
      }
    },
    {
      "cell_type": "code",
      "source": [
        "import re\n",
        "\n",
        "pattern = r'\\b[A-Za-z0-9._%+-]+@[A-Za-z0-9.-]+\\.[A-Z|a-z]{2,}\\b'\n",
        "result = re.findall(pattern, page_2)\n",
        "print(result)\n"
      ],
      "metadata": {
        "colab": {
          "base_uri": "https://localhost:8080/"
        },
        "id": "sN1RCgilafNO",
        "outputId": "83b87797-39c5-4e5d-e4bc-36456248d2e8"
      },
      "execution_count": 24,
      "outputs": [
        {
          "output_type": "stream",
          "name": "stdout",
          "text": [
            "['abaker@ourcompany.com', 'cdonaldson@ourcompany.com', 'efreeman@ourcompany.com']\n"
          ]
        }
      ]
    },
    {
      "cell_type": "code",
      "source": [],
      "metadata": {
        "id": "JyZ2C4m-arq5"
      },
      "execution_count": null,
      "outputs": []
    }
  ]
}